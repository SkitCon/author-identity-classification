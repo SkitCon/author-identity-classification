{
 "cells": [
  {
   "cell_type": "code",
   "execution_count": null,
   "metadata": {},
   "outputs": [],
   "source": [
    "# Dependencies\n"
   ]
  },
  {
   "cell_type": "code",
   "execution_count": null,
   "metadata": {},
   "outputs": [],
   "source": [
    "import re\n",
    "import pandas as pd\n",
    "import torch\n",
    "import torch.nn as nn\n",
    "from torch.utils.data import DataLoader, Dataset\n",
    "from sklearn.model_selection import train_test_split\n",
    "from sklearn.metrics import f1_score\n",
    "from model import SimilarityClassifierDualEncoder"
   ]
  },
  {
   "cell_type": "code",
   "execution_count": null,
   "metadata": {},
   "outputs": [],
   "source": [
    "# Read in train and dev set\n",
    "df = pd.read_csv(\"data/train.csv\")\n",
    "\n",
    "train_df, dev_df = train_test_split(df, test_size=0.25, seed=42) # Split into 75/25 train/dev\n",
    "\n",
    "dev_df, test_df = train_test_split(dev_df, test_size=0.6, seed=42) # Further split for 75/15/10 train/dev/test"
   ]
  },
  {
   "cell_type": "code",
   "execution_count": null,
   "metadata": {},
   "outputs": [],
   "source": [
    "device = torch.device(\"cuda\" if torch.cuda.is_available() else \"cpu\")\n",
    "\n",
    "# Initialize model, optimizer, and loss function\n",
    "model = SimilarityClassifierDualEncoder()\n",
    "optimizer = torch.optim.Adam(model.parameters(), lr=2e-5)\n",
    "\n",
    "NUM_EPOCHS = 5\n",
    "BATCH_SIZE = 64\n",
    "\n",
    "train_df[\"input_ids1\"], train_df[\"attention_masks1\"], \\\n",
    "train_df[\"input_ids2\"], train_df[\"attention_masks2\"] = zip(*train_df[\"text\"]\n",
    "                                                            .apply(model.tokenize))\n",
    "\n",
    "for epoch in range(NUM_EPOCHS):\n",
    "    model.train()\n",
    "\n",
    "    for i in range(0, len(train_df), BATCH_SIZE):\n",
    "        batch = train_df.iloc[i:min(i+BATCH_SIZE, len(train_df)-1)]\n",
    "        \n",
    "        # Forward pass for a batch of pairs\n",
    "        embeddings1, embeddings2 = model(batch[\"input_ids1\"], batch[\"attention_masks1\"],\n",
    "                                       batch[\"input_ids2\"], batch[\"attention_masks2\"])\n",
    "\n",
    "        # Calculate contrastive loss\n",
    "        loss = model.compute_contrastive_loss(embeddings1, embeddings2)\n",
    "        \n",
    "        # Backward pass and optimization step\n",
    "        optimizer.zero_grad()\n",
    "        loss.backward()\n",
    "        optimizer.step()\n",
    "\n",
    "    print(f\"Epoch {epoch + 1}, Loss: {loss.item()}\")"
   ]
  },
  {
   "cell_type": "code",
   "execution_count": null,
   "metadata": {},
   "outputs": [],
   "source": [
    "# Dev Eval\n",
    "\n",
    "model.eval()\n",
    "\n",
    "predictions = model.predict(dev_df[\"text\"])\n",
    "\n",
    "print(f\"F1: {f1_score(dev_df[\"label\"], predictions)}\")"
   ]
  }
 ],
 "metadata": {
  "language_info": {
   "name": "python"
  }
 },
 "nbformat": 4,
 "nbformat_minor": 2
}
